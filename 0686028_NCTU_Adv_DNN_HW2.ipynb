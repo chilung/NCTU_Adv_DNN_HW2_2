{
 "cells": [
  {
   "cell_type": "code",
   "execution_count": null,
   "metadata": {
    "colab": {
     "base_uri": "https://localhost:8080/"
    },
    "executionInfo": {
     "elapsed": 12476,
     "status": "ok",
     "timestamp": 1605924665563,
     "user": {
      "displayName": "王啟龍",
      "photoUrl": "",
      "userId": "01401139107177574945"
     },
     "user_tz": -480
    },
    "id": "iaFJcDIO6MG9",
    "outputId": "87dcd04a-7ef8-4a6e-fc91-8548d8d681fe"
   },
   "outputs": [
    {
     "name": "stdout",
     "output_type": "stream",
     "text": [
      "Running on CoLab\n",
      "/content\n",
      "rm: cannot remove '/content/chilung-NCTU_Adv_DNN_HW2_2': No such file or directory\n",
      "rm: cannot remove '/content/exec_env': No such file or directory\n",
      "rm: cannot remove '/content/tool': No such file or directory\n",
      "rm: cannot remove '/content/test.zip': No such file or directory\n",
      "rm: cannot remove '/content/test': No such file or directory\n",
      "Cloning into 'chilung-NCTU_Adv_DNN_HW2_2'...\n",
      "remote: Enumerating objects: 30, done.\u001b[K\n",
      "remote: Counting objects: 100% (30/30), done.\u001b[K\n",
      "remote: Compressing objects: 100% (25/25), done.\u001b[K\n",
      "remote: Total 30 (delta 3), reused 26 (delta 2), pack-reused 0\u001b[K\n",
      "Unpacking objects: 100% (30/30), done.\n",
      "Downloading 1nswVLQSGupsRympzb3tUv3L94d7ADPmi into ./test.zip... Done.\n",
      "Unzipping...Done.\n",
      "Downloading 1VGItDjkaoJ9Cq1RiCXnuXV7mWF930-Y1 into ./exec_env/yolo-obj-mAP_93.3.weights... Done.\n"
     ]
    }
   ],
   "source": [
    "from google_drive_downloader import GoogleDriveDownloader as gdd\n",
    "    \n",
    "if 'google.colab' in str(get_ipython()):\n",
    "    print('Running on CoLab')\n",
    "    %cd /content\n",
    "    !rm -r /content/NCTU_Adv_DNN_HW2_2\n",
    "    !rm -r /content/exec_env\n",
    "    !rm -r /content/tool\n",
    "    !rm /content/test.zip\n",
    "    !rm -r /content/test\n",
    "    !git clone https://github.com/chilung/NCTU_Adv_DNN_HW2_2.git\n",
    "    !mv /content/NCTU_Adv_DNN_HW2_2/* .\n",
    "    !rm -r /content/NCTU_Adv_DNN_HW2_2\n",
    "    gdd.download_file_from_google_drive(file_id='1nswVLQSGupsRympzb3tUv3L94d7ADPmi',\n",
    "                dest_path='./test.zip',\n",
    "                unzip=True)\n",
    "    gdd.download_file_from_google_drive(file_id='1VGItDjkaoJ9Cq1RiCXnuXV7mWF930-Y1',\n",
    "                dest_path='./exec_env/yolo-obj-mAP_93.3.weights',\n",
    "                unzip=False)"
   ]
  },
  {
   "cell_type": "code",
   "execution_count": null,
   "metadata": {
    "colab": {
     "base_uri": "https://localhost:8080/"
    },
    "id": "pidAZZZdi9SO",
    "outputId": "7a4a259f-5428-4ffc-e024-22cfffa01ce3"
   },
   "outputs": [
    {
     "name": "stdout",
     "output_type": "stream",
     "text": [
      "Namespace(cfgfile='./exec_env/yolo-obj.cfg', imgfiles='./exec_env/valid.txt', namesfile='./exec_env/obj.names', weightfile='./exec_env/yolo-obj-mAP_93.3.weights')\n",
      "convalution havn't activate linear\n",
      "convalution havn't activate linear\n",
      "convalution havn't activate linear\n",
      "Loading weights from ./exec_env/yolo-obj-mAP_93.3.weights... Done!\n",
      "Sat Nov 21 02:11:20 2020\n",
      "predict img proceed: 0 of 13068\n",
      "predict img proceed: 100 of 13068\n",
      "predict img proceed: 200 of 13068\n",
      "predict img proceed: 300 of 13068\n",
      "predict img proceed: 400 of 13068\n",
      "predict img proceed: 500 of 13068\n",
      "predict img proceed: 600 of 13068\n",
      "predict img proceed: 700 of 13068\n",
      "predict img proceed: 800 of 13068\n",
      "predict img proceed: 900 of 13068\n",
      "predict img proceed: 1000 of 13068\n",
      "predict img proceed: 1100 of 13068\n",
      "predict img proceed: 1200 of 13068\n",
      "predict img proceed: 1300 of 13068\n",
      "predict img proceed: 1400 of 13068\n",
      "predict img proceed: 1500 of 13068\n",
      "predict img proceed: 1600 of 13068\n",
      "predict img proceed: 1700 of 13068\n",
      "predict img proceed: 1800 of 13068\n",
      "predict img proceed: 1900 of 13068\n",
      "predict img proceed: 2000 of 13068\n"
     ]
    }
   ],
   "source": [
    "!python demo.py -cfgfile='./exec_env/yolo-obj.cfg' -weightfile='./exec_env/yolo-obj-mAP_93.3.weights' -imgfiles='./exec_env/valid.txt' -namesfile='./exec_env/obj.names'"
   ]
  },
  {
   "cell_type": "code",
   "execution_count": null,
   "metadata": {
    "id": "Qt24txiPh-Xk"
   },
   "outputs": [],
   "source": [
    "!ls submission.json\n",
    "# !cp submission.json '/content/drive/MyDrive/Colab Notebooks/NCTU_Adv_DNN_HW2/'"
   ]
  }
 ],
 "metadata": {
  "accelerator": "GPU",
  "colab": {
   "authorship_tag": "ABX9TyMnqtefW7v/tP9zZpJB6d2n",
   "collapsed_sections": [],
   "mount_file_id": "1kmjKqC92cuqIFsp8JnNoOmNeM92YsTa7",
   "name": "0686028_NCTU_Adv_DNN_HW2.ipynb",
   "provenance": []
  },
  "kernelspec": {
   "display_name": "Python 3",
   "language": "python",
   "name": "python3"
  },
  "language_info": {
   "codemirror_mode": {
    "name": "ipython",
    "version": 3
   },
   "file_extension": ".py",
   "mimetype": "text/x-python",
   "name": "python",
   "nbconvert_exporter": "python",
   "pygments_lexer": "ipython3",
   "version": "3.8.5"
  }
 },
 "nbformat": 4,
 "nbformat_minor": 4
}
